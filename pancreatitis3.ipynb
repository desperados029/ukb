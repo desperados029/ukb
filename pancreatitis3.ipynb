{
 "cells": [
  {
   "cell_type": "code",
   "execution_count": null,
   "metadata": {},
   "outputs": [],
   "source": [
    "import pandas as pd\n",
    "import numpy as np"
   ]
  },
  {
   "cell_type": "code",
   "execution_count": null,
   "metadata": {},
   "outputs": [],
   "source": [
    "# server의 데이터를 불러옴\n",
    "drug = pd.read_csv('/mnt/towel/UKBiobank/Clinical/41770/GP/gp_scripts.txt', sep='\\t', \n",
    "                            encoding='ISO-8859-1', engine='python')"
   ]
  },
  {
   "cell_type": "code",
   "execution_count": null,
   "metadata": {},
   "outputs": [],
   "source": [
    "main = pd.read_csv('/mnt/towel/UKBiobank/Clinical/39581/MAIN/ukb39581.csv')"
   ]
  },
  {
   "cell_type": "code",
   "execution_count": null,
   "metadata": {},
   "outputs": [],
   "source": [
    "# 진단 데이터를 불러옴\n",
    "diagnosis = pd.read_csv('/mnt/towel/UKBiobank/Clinical/41770/HES/hesin_diag.txt', sep='\\t', \n",
    "                        encoding='ISO-8859-1', engine='python')"
   ]
  },
  {
   "cell_type": "code",
   "execution_count": null,
   "metadata": {},
   "outputs": [],
   "source": [
    "# 진단 데이터의 환자수를 불러옴[8659522 rows]-> [413572 rows]\n",
    "diagnosis.drop_duplicates(['eid']) # 중복 데이터를 제거 함\n",
    "diagnosis = diagnosis.dropna(subset = ['diag_icd10']) # icd10의 결측치를 제거 [8587266 rows] ->410319 [410319 patiens]\n",
    "diagnosis.drop_duplicates(['eid'])"
   ]
  },
  {
   "cell_type": "markdown",
   "metadata": {},
   "source": [
    "# 당뇨병 환자만을 추출 시행(diagnosis)\n",
    "* diagnosis 데이터들중에서 당뇨병 환자만을 추출 시행 (type2 diabetes)\n",
    "* 해당하는 icd 10 code는 E11을 가짐 (E11중 icd9 code를 가지는 데이터는 없음)\n",
    "* icd 9를 기준으로도 분석을 시행 (따로 시행)"
   ]
  },
  {
   "cell_type": "code",
   "execution_count": null,
   "metadata": {},
   "outputs": [],
   "source": [
    "# icd 10 기준\n",
    "diabetes_filter = diagnosis['diag_icd10'].str.contains('E11')\n",
    "diabetes_diag = diagnosis[diabetes_filter] #159155 rows -> 29267 rows patients\n",
    "################################################\n",
    "diabetes_plist = list(diabetes_diag.drop_duplicates(['eid']).eid) #당뇨병 환자의 아이디 리스트 생성!!!!!1"
   ]
  },
  {
   "cell_type": "code",
   "execution_count": null,
   "metadata": {},
   "outputs": [],
   "source": [
    "# icd 9 기준 (없음)\n",
    "diagnosis = pd.read_csv('/mnt/towel/UKBiobank/Clinical/41770/HES/hesin_diag.txt', sep='\\t', \n",
    "... encoding='ISO-8859-1', engine='python')\n",
    "diabetes_filter_2 = diagnosis['diag_icd9'].str.contains('E11')\n",
    "diabetes_diag_2 = diagnosis[diabetes_filter_2]\n",
    "diabetes_diag_2 # Index: []-> 없음"
   ]
  },
  {
   "cell_type": "markdown",
   "metadata": {},
   "source": [
    "# 당뇨병 환자들 중 췌장염, 췌장암 환자들 추출\n",
    "* 췌장염과 췌장암의 진단을 받은 환자들 추출을 시행\n",
    "* 당뇨병 환자와의 교집합의 아이디 리스트를 추출\n",
    "* 진단 선후관계 파악 "
   ]
  },
  {
   "cell_type": "code",
   "execution_count": null,
   "metadata": {},
   "outputs": [],
   "source": [
    "# icd 10 기준 총 537명이 존재함\n",
    "diabetes_diag3 = diagnosis[diagnosis['eid'].isin(diabetes_plist)]  #당뇨병을 가진 환자의 다른 진단도 포함한 데이터 형성\n",
    "pan_filter = diabetes_diag3['diag_icd10'].str.contains('K85|K86') \n",
    "pan_diag = diabetes_diag3[pan_filter]\n",
    "# K860, K852는 알콜 유도성임으로 제외를 시킴!!!!!!!!!!!!!!!!!!!\n",
    "filter = pan_diag['diag_icd10'] != 'K860'\n",
    "pan_diag2 = pan_diag[filter]\n",
    "filter = pan_diag['diag_icd10'] != 'K852'\n",
    "pan_diag3 = pan_diag2[filter]\n",
    "pan_diag = pan_diag3   #3492 -> 804 patiens  ------------>다시 시작해야함!!!!!!!!!!!!!!!!\n",
    "############################################################당뇨병과 췌암질환을 모두 가지는 환자 리스트!!!!!!\n",
    "############################\n",
    "pan_plist = list(pan_diag.drop_duplicates(['eid']).eid)"
   ]
  },
  {
   "cell_type": "code",
   "execution_count": null,
   "metadata": {},
   "outputs": [],
   "source": [
    "# 췌장, 당뇨의 선후 관계 파악\n",
    "# ins_index의 순서를 사용하여 선후 관계를 파악함 먼저 발생하면 ins_index의 수가 작음!!!!!!!!!!!!!!!\n",
    "panda = diagnosis[diagnosis['eid'].isin(pan_plist)] \n",
    "#당뇨병과 췌장을 모두 가지는 모든 처방 내역(pan_diag는 췌장질환만 존재하여 비교 불가)"
   ]
  },
  {
   "cell_type": "code",
   "execution_count": null,
   "metadata": {},
   "outputs": [],
   "source": [
    "#췌장질환 있는 환자 리스트(pan_plist)중 환자 아이디 한개 추출해서 분석\n",
    "# ins_index의 수가 증가 할 수록 늦게 시작됨을 의미\n",
    "panda_diag = panda[panda['diag_icd10'].str.contains('K85|K86|E11')]\n",
    "panda_e = panda_diag[panda_diag['diag_icd10'].str.contains('E')]  \n",
    "panda_e = panda_e.drop_duplicates(['eid']) # 당뇨병 환자들 중복값 제거 어차피 선후 관계만 파악하는거니\n",
    "panda_e.set_index('eid', inplace=True) #인덱스 아이디로 시행\n",
    "panda_e = panda_e[['ins_index', 'diag_icd10']]\n",
    "panda_e.columns = ['ins_index2', 'diag_icd102'] # 병합을 위해 column명을 바꿔줌\n",
    "\n",
    "panda_k = panda_diag[panda_diag['diag_icd10'].str.contains('K')]  \n",
    "panda_k = panda_k.drop_duplicates(['eid']) # 췌장 환자들 중복값 제거\n",
    "panda_k.set_index('eid', inplace=True)\n",
    "panda_k = panda_k[['ins_index', 'diag_icd10']]\n",
    "\n",
    "#################당뇨병이 먼저 걸리면 ins_index(k) - ins_index2(e) >0 의 양수값을 가짐~!!!\n",
    "panda_w =panda_k.join(panda_e, how = 'inner') # 공통된 부분을 기점으로 합침 (537환자!!!)\n",
    "panda_w['cal'] = panda_w['ins_index'] - panda_w['ins_index2']\n",
    "filter = panda_w['cal']>0\n",
    "fin = panda_w[filter]\n",
    "fin\n",
    "###############################################################당뇨병-> 췌장질환############\n",
    "fin_list = list(fin.index) # 409명의 환자 아이디를 추출 시행함"
   ]
  },
  {
   "cell_type": "markdown",
   "metadata": {},
   "source": [
    "# 약물 처방 데이터 \n",
    "* 당뇨병 환자의 아이디 리스트를 약물 데이터에 적용을 시행함\n",
    "* 57706541처방 중 10249366처방건수 존재\n",
    "* 222113환자들 중 12787환자가 당뇨병 환자임"
   ]
  },
  {
   "cell_type": "code",
   "execution_count": null,
   "metadata": {},
   "outputs": [],
   "source": [
    "# 약물 데이터 57706541-> 222113\n",
    "drug.drop_duplicates(['eid']) #환자별로 중복값을 제거한 후 시행\n",
    "diabetes_drug = drug[drug['eid'].isin(diabetes_plist)] # 10249366처방이 존재함\n",
    "diabetes_drug.drop_duplicates(['eid'])  # 12787의 당뇨병 환자들이 처방 데이터가 존재함을 알 수 있음"
   ]
  },
  {
   "cell_type": "markdown",
   "metadata": {},
   "source": [
    "# 당뇨병 환자 처방데이터들 중 anti-diabetes 약물 처방 수 분석\n",
    "## dpp-4사용 처방, dpp-4처방하지 않은 환자군을 설정\n"
   ]
  },
  {
   "cell_type": "code",
   "execution_count": null,
   "metadata": {},
   "outputs": [],
   "source": [
    "# 약물이름 중 결측지 제거를 시행함(total) \n",
    "diabetes_drug = diabetes_drug.dropna(subset = ['drug_name']) # 8919371처방 존재\n",
    "diabetes_drug.drop_duplicates(['eid']) #11573 환자 존재\n",
    "\n",
    "# dpp_lisst, notdpp_list 에서 glp처방 받은 환자를 제거 시행! (exclusion criteria)\n",
    "glp_filter = diabetes_drug['drug_name'].str.contains('tide')\n",
    "glp_drug = diabetes_drug[glp_filter]\n",
    "glp_drug\n",
    "glp_list = list(glp_drug.drop_duplicates(['eid']).eid) # 1498환자 존재\n",
    "\n",
    "not_glp = ~diabetes_drug['eid'].isin(glp_list)\n",
    "diabetes_drug = diabetes_drug[not_glp]\n",
    "diabetes_drug\n",
    "diabetes_drug.drop_duplicates(['eid']) # 10075 patients 존재 (11573 - 1498)"
   ]
  },
  {
   "cell_type": "code",
   "execution_count": null,
   "metadata": {},
   "outputs": [],
   "source": [
    "# 당뇨병 환자들 중 dpp dpp를 처방 받은 환자들\n",
    "ddp_filter = diabetes_drug['drug_name'].str.contains('gliptin')\n",
    "ddp_drug = diabetes_drug[ddp_filter]\n",
    "ddp_drug # 40765처방이 존재\n",
    "ddp_drug.drop_duplicates(['eid']) # 1642환자 \n",
    "####################################\n",
    "ddp_list = list(ddp_drug.drop_duplicates(['eid']).eid)  #당뇨병 환자중 dpp-4를 처방받은 환자 아이디 리스트 & metformin 복합포함)\n",
    "ddp_drug = diabetes_drug['eid'].isin(ddp_list)\n",
    "ddp_drug = diabetes_drug[ddp_drug] # 해당 리스트 환자들 처방 데이터를 추출 시행 1985857처방 존재"
   ]
  },
  {
   "cell_type": "code",
   "execution_count": null,
   "metadata": {},
   "outputs": [],
   "source": [
    "# 당뇨병 환자들중 dpp를 처방 받지 않은 처방들\n",
    "notdpp_drug = ~diabetes_drug['eid'].isin(ddp_list)\n",
    "notdpp_drug = diabetes_drug[notdpp_drug]\n",
    "notdpp_drug #5641718처방 존재 차이는 동일 환자 여도 글립틴 외의 약물이 있어서 10249366과 차이 존재함\n",
    "notdpp_drug.drop_duplicates(['eid']) #8433 환자존재\n",
    "#############################\n",
    "notddp_list = list(notdpp_drug.drop_duplicates(['eid']).eid) # 당뇨병 환자들중 dpp-4를 처방 받지 않은 환자"
   ]
  },
  {
   "cell_type": "markdown",
   "metadata": {},
   "source": [
    "## 다른 당뇨병 약물들 처방 비율을 확인 (dpp 처방, 처방 x -> 췌장염)\n",
    "* 인슐린 처방\n",
    "* GI use\n",
    "* Biguanide use\n",
    "* Meglitinide\n",
    "* Sulfonylurea\n",
    "* TZD"
   ]
  },
  {
   "cell_type": "code",
   "execution_count": null,
   "metadata": {},
   "outputs": [],
   "source": [
    "# TZD drug(total 47701, 1279 patients )\n",
    "thiazoli_filter = diabetes_drug['drug_name'].str.contains('glitazone')\n",
    "thiazoli_drug = diabetes_drug[thiazoli_filter]\n",
    "thiazoli_drug\n",
    "# 환자 중복 아이디 제거\n",
    "thiazoli_drug.drop_duplicates(['eid'])\n",
    "\n",
    "# TZD drug(dpp 처방하지 않은 환자들 31426,794 )\n",
    "thiazoli_filter = notdpp_drug['drug_name'].str.contains('glitazone')\n",
    "thiazoli_drug = notdpp_drug[thiazoli_filter]\n",
    "thiazoli_drug\n",
    "thiazoli_drug.drop_duplicates(['eid'])\n",
    "\n",
    "# TZD drug(dpp 처방 환자들 16275, 485)\n",
    "thiazoli_filter = ddp_drug['drug_name'].str.contains('glitazone')\n",
    "thiazoli_drug = ddp_drug[thiazoli_filter]\n",
    "thiazoli_drug\n",
    "thiazoli_drug.drop_duplicates(['eid'])\n"
   ]
  },
  {
   "cell_type": "code",
   "execution_count": null,
   "metadata": {},
   "outputs": [],
   "source": [
    "# sglt drug(total 3849,332 )\n",
    "sglt_filter = diabetes_drug['drug_name'].str.contains('flozin')\n",
    "sglt_drug = diabetes_drug[sglt_filter]\n",
    "sglt_drug\n",
    "sglt_drug.drop_duplicates(['eid'])\n",
    "\n",
    "# TZD drug(dpp 처방하지 않은 환자들 1692, 139)\n",
    "sglt_filter = notdpp_drug['drug_name'].str.contains('flozin')\n",
    "sglt_drug = notdpp_drug[sglt_filter]\n",
    "sglt_drug\n",
    "sglt_drug.drop_duplicates(['eid'])\n",
    "\n",
    "# TZD drug(dpp 처방 환자들 2157, 193)\n",
    "sglt_filter = ddp_drug['drug_name'].str.contains('flozin')\n",
    "sglt_drug = ddp_drug[sglt_filter]\n",
    "sglt_drug\n",
    "sglt_drug.drop_duplicates(['eid'])\n"
   ]
  },
  {
   "cell_type": "code",
   "execution_count": null,
   "metadata": {},
   "outputs": [],
   "source": [
    "# Insulin(total 3921,173)\n",
    "insulin_filter = diabetes_drug['drug_name'].str.contains('Insulin')\n",
    "insulin_drug = diabetes_drug[insulin_filter]\n",
    "insulin_drug\n",
    "insulin_drug.drop_duplicates(['eid'])\n",
    "\n",
    "# Insulin(dpp 처방하지 않은 환자들 3726,154)\n",
    "insulin_filter = notdpp_drug['drug_name'].str.contains('Insulin')\n",
    "insulin_drug = notdpp_drug[insulin_filter]\n",
    "insulin_drug\n",
    "insulin_drug.drop_duplicates(['eid'])\n",
    "\n",
    "# Insulin(dpp 195, 19)\n",
    "insulin_filter = ddp_drug['drug_name'].str.contains('Insulin')\n",
    "insulin_drug = ddp_drug[insulin_filter]\n",
    "insulin_drug\n",
    "insulin_drug.drop_duplicates(['eid'])\n"
   ]
  },
  {
   "cell_type": "code",
   "execution_count": null,
   "metadata": {},
   "outputs": [],
   "source": [
    "# MG(2745, 105)\n",
    "mg_filter = diabetes_drug['drug_name'].str.contains('glinide')\n",
    "mg_drug = diabetes_drug[mg_filter]\n",
    "mg_drug\n",
    "mg_drug.drop_duplicates(['eid'])\n",
    "\n",
    "# mg drug( not dpp 1392, 57)\n",
    "mg_filter = notdpp_drug['drug_name'].str.contains('glinide')\n",
    "mg_drug = notdpp_drug[mg_filter]\n",
    "mg_drug\n",
    "mg_drug.drop_duplicates(['eid'])\n",
    "\n",
    "# mg drug(dpp 1353, 48 )\n",
    "mg_filter = ddp_drug['drug_name'].str.contains('glinide')\n",
    "mg_drug = ddp_drug[mg_filter]\n",
    "mg_drug\n",
    "mg_drug.drop_duplicates(['eid'])"
   ]
  },
  {
   "cell_type": "markdown",
   "metadata": {},
   "source": [
    "# dpp-4 처방 환자들 중 췌장질환 발생 빈도 계산\n",
    "* 약물 처방 리스트 (ddp_list, notddp_list)와 당뇨병, 췌장질환 환자 리스트 교집합 구함"
   ]
  },
  {
   "cell_type": "code",
   "execution_count": null,
   "metadata": {},
   "outputs": [],
   "source": [
    "# dpp처방 받은 환자군들 중 췌장염이 발생한 비율\n",
    "dpp_pan_list = list(set(fin_list) & set(ddp_list))\n",
    "len(dpp_pan_list) # 16명\n",
    "len(dpp_pan_list)/ len(ddp_list)  0.0097442143727162\n",
    "    \n",
    "dpp_notpan_list = list(set(ddp_list) - set(fin_list))\n",
    "\n",
    "# dpp처방 받지 않은 환자군들 중 췌장염이 발생한 비율\n",
    "notdpp_pan_list = list(set(fin_list) & set(notddp_list))\n",
    "len(notdpp_pan_list) #102명\n",
    "len(notdpp_pan_list)/ len(notddp_list) 0.0120"
   ]
  },
  {
   "cell_type": "code",
   "execution_count": null,
   "metadata": {},
   "outputs": [],
   "source": [
    "# 약물 처방 리스트를 생성\n",
    "thiazoli_list = list(thiazoli_drug.drop_duplicates(['eid']).eid)\n",
    "sglt_list = list(sglt_drug.drop_duplicates(['eid']).eid)\n",
    "insulin_list = list(insulin_drug.drop_duplicates(['eid']).eid)\n",
    "mg_list = list(mg_drug.drop_duplicates(['eid']).eid)"
   ]
  },
  {
   "cell_type": "markdown",
   "metadata": {},
   "source": [
    "# 단순히 분석 빈도 분석이셔어 여러 confounding factor을 고려하여 위험도 분석을 시행해봐야 할듯 싶음!"
   ]
  },
  {
   "cell_type": "markdown",
   "metadata": {},
   "source": [
    "# 관련 환자들을 대상으로 confounding factor분석 시행\n",
    "* BMI\n",
    "* Alchol\n",
    "* bileduct disease\n",
    "* "
   ]
  },
  {
   "cell_type": "code",
   "execution_count": null,
   "metadata": {},
   "outputs": [],
   "source": [
    "# history of gall bladder and common bile duct stone(CBD) [ICD-10 K80]\n",
    "stone_filter = diagnosis['diag_icd10'].str.contains('K80')\n",
    "stone_diag = diagnosis[stone_filter]\n",
    "stone_plist = list(stone_diag.drop_duplicates(['eid']).eid)\n",
    "len(stone_plist)\n",
    "\n",
    "len(list(set(notddp_list) & set(stone_plist))) #655 not dpp & stone\n",
    "len(list(set(ddp_list) & set(stone_plist))) #141 dpp & stone\n",
    "len(list(set(dpp_pan_list) & set(stone_plist))) #6  dpp pan 중 stone\n",
    "len(list(set(dpp_notpan_list) & set(stone_plist))) # 135\n",
    "\n",
    "# hypertriglyceridemia history (E781)\n",
    "hyper_filter = diagnosis['diag_icd10'].str.contains('E781')\n",
    "hyper_diag = diagnosis[stone_filter]\n",
    "hyper_plist = list(stone_diag.drop_duplicates(['eid']).eid)\n",
    "len(hyper_plist)\n",
    "len(list(set(notddp_list) & set(hyper_plist)))\n",
    "len(list(set(ddp_list) & set(hyper_plist)))\n",
    "len(list(set(dpp_pan_list) & set(hyper_plist))) #6  dpp pan 중 hyper\n",
    "len(list(set(dpp_notpan_list) & set(hyper_plist))) #135  dpp not pan & hyper\n",
    "\n",
    "# anti-diabetes drug ratio of dpp \n",
    "len(list(set(dpp_pan_list) & set(thiazoli_list)))\n",
    "len(list(set(dpp_notpan_list) & set(thiazoli_list)))\n",
    "\n",
    "len(list(set(dpp_pan_list) & set(sglt_list)))\n",
    "len(list(set(dpp_notpan_list) & set(sglt_list)))\n",
    "\n",
    "len(list(set(dpp_pan_list) & set(insulin_list)))\n",
    "len(list(set(dpp_notpan_list) & set(insulin_list)))\n",
    "\n",
    "len(list(set(dpp_pan_list) & set(mg_list)))\n",
    "len(list(set(dpp_notpan_list) & set(mg_list)))"
   ]
  },
  {
   "cell_type": "code",
   "execution_count": null,
   "metadata": {},
   "outputs": [],
   "source": [
    "hesin = pd.read_csv('/mnt/towel/UKBiobank/Clinical/41770/HES/hesin.txt', sep='\\t', encoding='ISO-8859-1', engine='python')"
   ]
  },
  {
   "cell_type": "markdown",
   "metadata": {},
   "source": [
    "# 비율 검정\n",
    "import numpy as np\n",
    "from statsmodels.stats.proportion import proportions_ztest\n",
    "\n",
    "count = np.array([100, 170])\n",
    "nobs = np.array([300, 400])\n",
    "\n",
    "z, p = proportions_ztest(count=count, nobs=nobs, value=0)\n",
    "print(z)\n",
    "print(p)"
   ]
  },
  {
   "cell_type": "markdown",
   "metadata": {},
   "source": [
    "\n",
    "# 관련되어진 환자들 데이터를 raw data를 뜯어보기\n",
    "* dpp_pan_list의 16명의 환자들의 처방 데이터를 모두 살펴 보기\n",
    "* fin_list 409명도 살펴보기 시행"
   ]
  },
  {
   "cell_type": "code",
   "execution_count": null,
   "metadata": {},
   "outputs": [],
   "source": [
    "# dpp_pan list의 환자들 데이터를 살펴 보기\n",
    "for i in range(len(dpp_pan_list)+1):\n",
    "...      print(diagnosis[diagnosis['eid'] == dpp_pan_list[i]])\n",
    "\n"
   ]
  }
 ],
 "metadata": {
  "kernelspec": {
   "display_name": "Python 3",
   "language": "python",
   "name": "python3"
  },
  "language_info": {
   "codemirror_mode": {
    "name": "ipython",
    "version": 3
   },
   "file_extension": ".py",
   "mimetype": "text/x-python",
   "name": "python",
   "nbconvert_exporter": "python",
   "pygments_lexer": "ipython3",
   "version": "3.8.5"
  }
 },
 "nbformat": 4,
 "nbformat_minor": 4
}
